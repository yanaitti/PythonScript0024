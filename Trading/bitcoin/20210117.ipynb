{
 "cells": [
  {
   "cell_type": "code",
   "execution_count": 1,
   "metadata": {},
   "outputs": [],
   "source": [
    "# グラフ描画に使う\n",
    "import numpy as np\n",
    "import pandas as pd\n",
    "import matplotlib.pyplot as plt\n",
    "# bitFlyerにアクセスするのに使う\n",
    "import pybitflyer\n",
    "# 時間の管理に使う\n",
    "import time\n",
    "from datetime import datetime\n",
    "# リアルタイムプロットに必要\n",
    "from ipywidgets import FloatProgress\n",
    "from IPython.display import display, clear_output\n",
    "# Jupyter環境でグラフを表示するのに必要\n",
    "%matplotlib inline"
   ]
  },
  {
   "cell_type": "code",
   "execution_count": 2,
   "metadata": {},
   "outputs": [
    {
     "name": "stdout",
     "output_type": "stream",
     "text": [
      "{'product_code': 'BTC_JPY', 'state': 'RUNNING', 'timestamp': '2021-01-17T10:14:30.12', 'tick_id': 9950541, 'best_bid': 3563038.0, 'best_ask': 3565611.0, 'best_bid_size': 0.2, 'best_ask_size': 0.05, 'total_bid_depth': 1084.30459564, 'total_ask_depth': 1202.62350921, 'market_bid_size': 0.0, 'market_ask_size': 0.0, 'ltp': 3562638.0, 'volume': 113357.56420231, 'volume_by_product': 8358.68662134}\n"
     ]
    }
   ],
   "source": [
    "api = pybitflyer.API()\n",
    "ticker = api.ticker(product_code=\"BTC_JPY\")\n",
    "print(ticker)\n"
   ]
  },
  {
   "cell_type": "code",
   "execution_count": null,
   "metadata": {
    "scrolled": false
   },
   "outputs": [],
   "source": [
    "# # 最終取引価格を格納する配列\n",
    "# raws = []\n",
    "# # プロットの準備\n",
    "# fig = plt.figure(figsize=(16,10))\n",
    "# axe = fig.add_subplot(111)\n",
    "\n",
    "# while True:\n",
    "#     # 毎分00秒に稼働\n",
    "#     if datetime.now().strftime('%S') [0:2]== '00':\n",
    "#         clear_output(wait = True)\n",
    "#         # プロット用データの更新\n",
    "#         tick = api.ticker(product_code = \"BTC_JPY\")\n",
    "#         raws = np.append(raws, tick['ltp'])\n",
    "#         # プロット\n",
    "#         axe.plot(raws, \"black\", linewidth=2, label=\"Raw price\")\n",
    "#         axe.set_title(\"Raw price\")\n",
    "#         display(fig)\n",
    "#         # 次の00秒まで休憩\n",
    "#         time.sleep(57)\n",
    "#         axe.cla()"
   ]
  },
  {
   "cell_type": "code",
   "execution_count": null,
   "metadata": {},
   "outputs": [],
   "source": [
    "# # 最終取引価格, 移動平均, 標準偏差を格納する配列\n",
    "# raws = []\n",
    "# sma1, sma2 = [], []\n",
    "# sgm1, sgm2 = [], []\n",
    "\n",
    "# # 移動平均を取る幅\n",
    "# itr1 = 15 # 15 mins\n",
    "# itr2 = 60  # 60 mins\n",
    "\n",
    "# # 60分間の最終取引価格の配列\n",
    "# current_price = api.ticker(product_code = \"BTC_JPY\")['ltp']\n",
    "# ltps2 = current_price*np.ones(itr2) \n",
    "\n",
    "# plt.ion()\n",
    "# fig = plt.figure(figsize=(16,5))\n",
    "# axe = fig.add_subplot(111)\n",
    "\n",
    "# while True:\n",
    "#     # 60秒ごとに稼働\n",
    "#     if datetime.now().strftime('%S') [0:2]== '00':\n",
    "#         clear_output(wait = True)\n",
    "#         tick = api.ticker(product_code = \"BTC_JPY\")\n",
    "#         # 最終取引価格の更新\n",
    "#         ltps2 = np.hstack((ltps2[1:itr2], tick['ltp']))\n",
    "#         ltps1 = ltps2[itr2-itr1:itr2]\n",
    "#         # プロット用データの更新\n",
    "#         raws = np.append(raws, [ltps1[itr1-1]])\n",
    "#         sma1 = np.append(sma1, [ltps1.mean()])\n",
    "#         sma2.append(ltps2.mean())\n",
    "#         sgm1 = np.append(sgm1, [ltps1.std()])\n",
    "#         sgm2 = np.append(sgm2, [ltps2.std()])\n",
    "#         # プロット\n",
    "#         axe.plot(raws, \"black\", linewidth=2, label=\"Raw price\")\n",
    "#         axe.plot(sma1, \"r\", linewidth=1, label=\"15min SMA\")\n",
    "#         axe.plot(sma2, \"g\", linewidth=1, label=\"60min SMA\")\n",
    "#         axe.plot(sma1+2*sgm1, \"r\", linewidth=1, linestyle=\"dashed\", label=\"15min 2sigma\")\n",
    "#         axe.plot(sma1-2*sgm1, \"r\", linewidth=1, linestyle=\"dashed\")\n",
    "#         axe.plot(sma2+2*sgm2, \"g\", linewidth=1, linestyle=\"dashed\", label=\"60min 2sigma\")\n",
    "#         axe.plot(sma2-2*sgm2, \"g\", linewidth=1, linestyle=\"dashed\")\n",
    "#         axe.legend(loc='upper left')\n",
    "#         axe.set_title(\"SMA and Bollinger band\")\n",
    "#         display(fig)\n",
    "#         # 次の00秒まで休憩\n",
    "#         time.sleep(57)\n",
    "#         axe.cla()"
   ]
  },
  {
   "cell_type": "code",
   "execution_count": null,
   "metadata": {},
   "outputs": [],
   "source": [
    "# 最終取引価格, 移動平均, 標準偏差を格納する配列\n",
    "raws = []\n",
    "sma1, sma2, sma3 = [], [], []\n",
    "sgm1, sgm2 = [], []\n",
    "\n",
    "# 移動平均を取る幅\n",
    "itr1 = 20 # 20 ticks\n",
    "itr2 = 50  # 50 ticks\n",
    "itr3 = 100  # 100 ticks\n"
   ]
  },
  {
   "cell_type": "code",
   "execution_count": null,
   "metadata": {},
   "outputs": [],
   "source": [
    "current_price = api.ticker(product_code = \"BTC_JPY\")['ltp']\n",
    "current_price"
   ]
  },
  {
   "cell_type": "code",
   "execution_count": null,
   "metadata": {},
   "outputs": [],
   "source": [
    "ltps3 = current_price*np.ones(itr3)\n",
    "ltps3"
   ]
  },
  {
   "cell_type": "code",
   "execution_count": null,
   "metadata": {},
   "outputs": [],
   "source": [
    "tick = api.ticker(product_code = \"BTC_JPY\")\n",
    "\n",
    "ltps3 = np.hstack((ltps3[1:itr3], tick['ltp']))\n",
    "ltps3, len(ltps3)"
   ]
  },
  {
   "cell_type": "code",
   "execution_count": null,
   "metadata": {},
   "outputs": [],
   "source": [
    "ltps2 = ltps3[itr3-itr2:itr3]\n",
    "ltps2, len(ltps2)"
   ]
  },
  {
   "cell_type": "code",
   "execution_count": null,
   "metadata": {},
   "outputs": [],
   "source": [
    "ltps1 = ltps2[itr2-itr1:itr2]\n",
    "ltps1, len(ltps1)"
   ]
  },
  {
   "cell_type": "code",
   "execution_count": null,
   "metadata": {},
   "outputs": [],
   "source": [
    "tick"
   ]
  },
  {
   "cell_type": "code",
   "execution_count": null,
   "metadata": {},
   "outputs": [],
   "source": [
    "tick = api.ticker(product_code = \"BTC_JPY\")\n",
    "\n",
    "ltps3 = np.hstack((ltps3[1:itr3], tick['ltp']))\n",
    "ltps3, len(ltps3)\n",
    "\n",
    "ltps2 = ltps3[itr3-itr2:itr3]\n",
    "ltps2, len(ltps2)\n",
    "\n",
    "ltps1 = ltps2[itr2-itr1:itr2]\n",
    "ltps1, len(ltps1)\n",
    "\n",
    "\n",
    "tick['ltp'], np.mean(ltps3), np.mean(ltps2), np.mean(ltps1)"
   ]
  },
  {
   "cell_type": "markdown",
   "metadata": {},
   "source": [
    "# get historical data for bitcoin"
   ]
  },
  {
   "cell_type": "code",
   "execution_count": null,
   "metadata": {},
   "outputs": [],
   "source": [
    "import numpy as np\n",
    "import requests,time\n",
    "import pandas as pd\n",
    "from datetime import datetime"
   ]
  },
  {
   "cell_type": "code",
   "execution_count": null,
   "metadata": {},
   "outputs": [],
   "source": [
    "url = 'https://api.cryptowat.ch/markets/bitflyer/btcjpy/ohlc'\n",
    "query = {\n",
    "    'periods':300, # 5min\n",
    "    }\n",
    "res = requests.get(url, params=query).json()['result']['300']"
   ]
  },
  {
   "cell_type": "code",
   "execution_count": null,
   "metadata": {},
   "outputs": [],
   "source": [
    "res, len(res)"
   ]
  },
  {
   "cell_type": "code",
   "execution_count": null,
   "metadata": {},
   "outputs": [],
   "source": [
    "# 古い\n",
    "res[0]"
   ]
  },
  {
   "cell_type": "code",
   "execution_count": null,
   "metadata": {},
   "outputs": [],
   "source": [
    "# 最新\n",
    "res[-1]"
   ]
  },
  {
   "cell_type": "code",
   "execution_count": null,
   "metadata": {},
   "outputs": [],
   "source": [
    "type(res)"
   ]
  },
  {
   "cell_type": "code",
   "execution_count": null,
   "metadata": {},
   "outputs": [],
   "source": [
    "last_ltps = [r[-3] for r in res]\n",
    "last_ltps"
   ]
  },
  {
   "cell_type": "code",
   "execution_count": null,
   "metadata": {},
   "outputs": [],
   "source": [
    "x = 1\n",
    "print([x if x<5 else 5])"
   ]
  },
  {
   "cell_type": "code",
   "execution_count": null,
   "metadata": {},
   "outputs": [],
   "source": [
    "last_ltps[0:5]"
   ]
  },
  {
   "cell_type": "code",
   "execution_count": null,
   "metadata": {},
   "outputs": [],
   "source": [
    "itr1, last_ltps[980:1000]"
   ]
  },
  {
   "cell_type": "code",
   "execution_count": null,
   "metadata": {},
   "outputs": [],
   "source": [
    "def calc_idx(idx, span):\n",
    "    return idx if idx<span-1 else span-1"
   ]
  },
  {
   "cell_type": "code",
   "execution_count": null,
   "metadata": {},
   "outputs": [],
   "source": [
    "ticks = []\n",
    "\n",
    "for i, line in enumerate(res):\n",
    "    tt = []\n",
    "    tt.append(i)\n",
    "    tt.append(line[0])\n",
    "\n",
    "    # lst\n",
    "    tt.append(line[4])\n",
    "    \n",
    "    # 20SMA\n",
    "    idx = calc_idx(i, itr1)\n",
    "    sma20 = np.mean(last_ltps[i-idx:i+1])\n",
    "    tt.append(sma20)\n",
    "\n",
    "    # 50SMA\n",
    "#     idx = (i if i<itr2-1 else itr2-1)\n",
    "    idx = calc_idx(i, itr2)\n",
    "    sma50 = np.mean(last_ltps[i-idx:i+1])\n",
    "    tt.append(sma50)\n",
    "\n",
    "    # 100SMA\n",
    "#     idx = (i if i<itr1-3 else itr3-1)\n",
    "    idx = calc_idx(i, itr3)\n",
    "    sma100 = np.mean(last_ltps[i-idx:i+1])\n",
    "    tt.append(sma100)\n",
    "    \n",
    "    # 20 と 50の比較\n",
    "    tt.append(0 if sma20 == sma50 else -1 if sma20 > sma50 else 1)\n",
    "    \n",
    "    # 50 と 100の比較\n",
    "    tt.append(0 if sma50 == sma100 else -1 if sma50 > sma100 else 1)\n",
    "    \n",
    "    tt.append(0 if i == 0 else np.sqrt((last_ltps[i] - last_ltps[i-1])**2))\n",
    "    \n",
    "    # 目的変数(y)\n",
    "#     tt.append(1 if tt[-1] > 10000 else 0)\n",
    "    if i == 0:\n",
    "        tt.append(0)\n",
    "    else:\n",
    "        if(last_ltps[i-1] -10000) > line[4]:\n",
    "            tt.append(-1)\n",
    "        elif(last_ltps[i-1] + 10000 < line[4]):\n",
    "            tt.append(1)\n",
    "        else:\n",
    "            tt.append(0)\n",
    "#         tt.append(0 if last_ltps[calc_idx(i, 1)] == line[4] else 1 if last_ltps[calc_idx(i, 1)] > line[4] else -1)\n",
    "\n",
    "#     tt.append((i-idx, ':', i+1))\n",
    "#    print(i, tt)\n",
    "\n",
    "    ticks.append(tt)\n",
    "\n",
    "ticks"
   ]
  },
  {
   "cell_type": "code",
   "execution_count": null,
   "metadata": {},
   "outputs": [],
   "source": [
    "tick_df = pd.DataFrame(ticks, columns=['idx', 'timestamp', 'ltps', 'sma20', 'sma50', 'sma100', 'diff1', 'diff2', 'diff_price', 'y'])\n",
    "tick_df = tick_df.set_index('idx')\n",
    "tick_df = tick_df.drop(['diff1', 'diff2', 'diff_price', 'timestamp'], axis=1)\n",
    "tick_df"
   ]
  },
  {
   "cell_type": "code",
   "execution_count": null,
   "metadata": {},
   "outputs": [],
   "source": [
    "# tick_df['y'].value_counts()"
   ]
  },
  {
   "cell_type": "code",
   "execution_count": null,
   "metadata": {},
   "outputs": [],
   "source": [
    "# tick_df.describe()"
   ]
  },
  {
   "cell_type": "markdown",
   "metadata": {},
   "source": [
    "## PyCaret"
   ]
  },
  {
   "cell_type": "code",
   "execution_count": null,
   "metadata": {},
   "outputs": [],
   "source": [
    "from pycaret.classification import *"
   ]
  },
  {
   "cell_type": "code",
   "execution_count": null,
   "metadata": {},
   "outputs": [],
   "source": [
    "exp1 = setup(data=tick_df, target = 'y', feature_selection=True)"
   ]
  },
  {
   "cell_type": "code",
   "execution_count": null,
   "metadata": {},
   "outputs": [],
   "source": [
    "compare_models()"
   ]
  },
  {
   "cell_type": "code",
   "execution_count": null,
   "metadata": {},
   "outputs": [],
   "source": [
    "model = create_model('lr')"
   ]
  },
  {
   "cell_type": "code",
   "execution_count": null,
   "metadata": {},
   "outputs": [],
   "source": [
    "tuned_model = tune_model(model)"
   ]
  },
  {
   "cell_type": "code",
   "execution_count": null,
   "metadata": {},
   "outputs": [],
   "source": [
    "plot_model(tuned_model, plot='auc')"
   ]
  },
  {
   "cell_type": "code",
   "execution_count": null,
   "metadata": {},
   "outputs": [],
   "source": [
    "plot_model(tuned_model, plot='feature')"
   ]
  },
  {
   "cell_type": "code",
   "execution_count": null,
   "metadata": {},
   "outputs": [],
   "source": [
    "plot_model(tuned_model, plot = 'confusion_matrix')"
   ]
  },
  {
   "cell_type": "markdown",
   "metadata": {},
   "source": [
    "# Data stored from bitcoin"
   ]
  },
  {
   "cell_type": "code",
   "execution_count": 3,
   "metadata": {},
   "outputs": [
    {
     "name": "stdout",
     "output_type": "stream",
     "text": [
      "{'product_code': 'BTC_JPY', 'state': 'RUNNING', 'timestamp': '2021-01-17T10:14:59.51', 'tick_id': 9951813, 'best_bid': 3571658.0, 'best_ask': 3574116.0, 'best_bid_size': 0.75, 'best_ask_size': 0.114, 'total_bid_depth': 1082.34867638, 'total_ask_depth': 1202.4381189, 'market_bid_size': 0.0, 'market_ask_size': 0.0, 'ltp': 3573948.0, 'volume': 113418.40145743, 'volume_by_product': 8366.48285768}\n",
      "{'product_code': 'BTC_JPY', 'state': 'RUNNING', 'timestamp': '2021-01-17T10:16:00.23', 'tick_id': 9953940, 'best_bid': 3558949.0, 'best_ask': 3560854.0, 'best_bid_size': 0.005, 'best_ask_size': 0.07, 'total_bid_depth': 1082.28792138, 'total_ask_depth': 1211.82922579, 'market_bid_size': 0.0, 'market_ask_size': 0.0, 'ltp': 3559868.0, 'volume': 113458.33565124, 'volume_by_product': 8366.61203654}\n",
      "{'product_code': 'BTC_JPY', 'state': 'RUNNING', 'timestamp': '2021-01-17T10:16:59.823', 'tick_id': 9955795, 'best_bid': 3561186.0, 'best_ask': 3562327.0, 'best_bid_size': 0.03, 'best_ask_size': 0.1784, 'total_bid_depth': 1086.90079952, 'total_ask_depth': 1212.68916656, 'market_bid_size': 0.0, 'market_ask_size': 0.0, 'ltp': 3563039.0, 'volume': 113456.81319065, 'volume_by_product': 8368.26187925}\n",
      "{'product_code': 'BTC_JPY', 'state': 'RUNNING', 'timestamp': '2021-01-17T10:17:59.453', 'tick_id': 9957508, 'best_bid': 3570014.0, 'best_ask': 3571999.0, 'best_bid_size': 0.01, 'best_ask_size': 0.28952098, 'total_bid_depth': 1086.79711048, 'total_ask_depth': 1209.15233988, 'market_bid_size': 0.0, 'market_ask_size': 0.0, 'ltp': 3570474.0, 'volume': 113501.64453867, 'volume_by_product': 8366.42994925}\n",
      "{'product_code': 'BTC_JPY', 'state': 'RUNNING', 'timestamp': '2021-01-17T10:18:59.917', 'tick_id': 9959377, 'best_bid': 3576333.0, 'best_ask': 3579000.0, 'best_bid_size': 0.1752, 'best_ask_size': 0.021, 'total_bid_depth': 1091.88765248, 'total_ask_depth': 1208.10557142, 'market_bid_size': 0.0, 'market_ask_size': 0.0, 'ltp': 3576321.0, 'volume': 113537.78829222, 'volume_by_product': 8364.06604979}\n",
      "{'product_code': 'BTC_JPY', 'state': 'RUNNING', 'timestamp': '2021-01-17T10:20:00.33', 'tick_id': 9960876, 'best_bid': 3576426.0, 'best_ask': 3578230.0, 'best_bid_size': 0.1, 'best_ask_size': 0.55, 'total_bid_depth': 1088.55923028, 'total_ask_depth': 1212.6704732, 'market_bid_size': 0.0, 'market_ask_size': 0.0, 'ltp': 3578230.0, 'volume': 113574.71004218, 'volume_by_product': 8367.74160241}\n",
      "{'product_code': 'BTC_JPY', 'state': 'RUNNING', 'timestamp': '2021-01-17T10:20:59.88', 'tick_id': 9962464, 'best_bid': 3575080.0, 'best_ask': 3576501.0, 'best_bid_size': 0.248, 'best_ask_size': 0.0222, 'total_bid_depth': 1090.02346531, 'total_ask_depth': 1211.13496678, 'market_bid_size': 0.0, 'market_ask_size': 0.0, 'ltp': 3575119.0, 'volume': 113624.60577698, 'volume_by_product': 8367.87542538}\n",
      "{'product_code': 'BTC_JPY', 'state': 'RUNNING', 'timestamp': '2021-01-17T10:21:59.127', 'tick_id': 9964050, 'best_bid': 3576638.0, 'best_ask': 3578227.0, 'best_bid_size': 0.07, 'best_ask_size': 0.11, 'total_bid_depth': 1089.18992708, 'total_ask_depth': 1213.01209197, 'market_bid_size': 0.0, 'market_ask_size': 0.0, 'ltp': 3577115.0, 'volume': 113655.6484925, 'volume_by_product': 8367.97059991}\n",
      "{'product_code': 'BTC_JPY', 'state': 'RUNNING', 'timestamp': '2021-01-17T10:22:59.64', 'tick_id': 9965605, 'best_bid': 3575042.0, 'best_ask': 3576929.0, 'best_bid_size': 0.05, 'best_ask_size': 0.75, 'total_bid_depth': 1089.86654806, 'total_ask_depth': 1213.09095547, 'market_bid_size': 0.0, 'market_ask_size': 0.0, 'ltp': 3576754.0, 'volume': 113656.76031024, 'volume_by_product': 8367.36821659}\n",
      "{'product_code': 'BTC_JPY', 'state': 'RUNNING', 'timestamp': '2021-01-17T10:24:00.113', 'tick_id': 9968110, 'best_bid': 3596638.0, 'best_ask': 3599110.0, 'best_bid_size': 0.194, 'best_ask_size': 0.2323, 'total_bid_depth': 1088.15399708, 'total_ask_depth': 1206.71935639, 'market_bid_size': 0.0, 'market_ask_size': 0.0, 'ltp': 3597520.0, 'volume': 113875.85663199, 'volume_by_product': 8378.51010485}\n",
      "{'product_code': 'BTC_JPY', 'state': 'RUNNING', 'timestamp': '2021-01-17T10:24:59.927', 'tick_id': 9970334, 'best_bid': 3601578.0, 'best_ask': 3603322.0, 'best_bid_size': 0.004, 'best_ask_size': 0.1868, 'total_bid_depth': 1105.22514708, 'total_ask_depth': 1209.35351999, 'market_bid_size': 0.0, 'market_ask_size': 0.0, 'ltp': 3601817.0, 'volume': 113999.05797962, 'volume_by_product': 8383.11930224}\n",
      "{'product_code': 'BTC_JPY', 'state': 'RUNNING', 'timestamp': '2021-01-17T10:25:59.51', 'tick_id': 9972539, 'best_bid': 3592290.0, 'best_ask': 3593806.0, 'best_bid_size': 0.093553, 'best_ask_size': 0.7, 'total_bid_depth': 1086.81525809, 'total_ask_depth': 1211.02605909, 'market_bid_size': 0.0, 'market_ask_size': 0.0, 'ltp': 3592290.0, 'volume': 114147.56138642, 'volume_by_product': 8408.02942413}\n",
      "{'product_code': 'BTC_JPY', 'state': 'RUNNING', 'timestamp': '2021-01-17T10:26:59.547', 'tick_id': 9974291, 'best_bid': 3596850.0, 'best_ask': 3599914.0, 'best_bid_size': 0.175, 'best_ask_size': 0.06, 'total_bid_depth': 1090.73200191, 'total_ask_depth': 1208.98894117, 'market_bid_size': 0.0, 'market_ask_size': 0.0, 'ltp': 3598416.0, 'volume': 114206.88403818, 'volume_by_product': 8414.87364714}\n",
      "{'product_code': 'BTC_JPY', 'state': 'RUNNING', 'timestamp': '2021-01-17T10:27:59.98', 'tick_id': 9975886, 'best_bid': 3600076.0, 'best_ask': 3601447.0, 'best_bid_size': 0.6, 'best_ask_size': 0.121, 'total_bid_depth': 1092.48956247, 'total_ask_depth': 1209.45606218, 'market_bid_size': 0.0, 'market_ask_size': 0.0, 'ltp': 3600264.0, 'volume': 114249.0515404, 'volume_by_product': 8412.99697682}\n",
      "{'product_code': 'BTC_JPY', 'state': 'RUNNING', 'timestamp': '2021-01-17T10:28:59.52', 'tick_id': 9977681, 'best_bid': 3597300.0, 'best_ask': 3599761.0, 'best_bid_size': 0.175, 'best_ask_size': 0.03, 'total_bid_depth': 1088.41657347, 'total_ask_depth': 1210.22959064, 'market_bid_size': 0.0, 'market_ask_size': 0.0, 'ltp': 3598253.0, 'volume': 114327.20686538, 'volume_by_product': 8411.29330209}\n"
     ]
    },
    {
     "ename": "KeyboardInterrupt",
     "evalue": "",
     "output_type": "error",
     "traceback": [
      "\u001b[1;31m---------------------------------------------------------------------------\u001b[0m",
      "\u001b[1;31mKeyboardInterrupt\u001b[0m                         Traceback (most recent call last)",
      "\u001b[1;32m<ipython-input-3-70ab0ac965e3>\u001b[0m in \u001b[0;36m<module>\u001b[1;34m\u001b[0m\n\u001b[0;32m      9\u001b[0m         \u001b[0mprint\u001b[0m\u001b[1;33m(\u001b[0m\u001b[0mtick\u001b[0m\u001b[1;33m)\u001b[0m\u001b[1;33m\u001b[0m\u001b[1;33m\u001b[0m\u001b[0m\n\u001b[0;32m     10\u001b[0m         \u001b[1;31m# 次の00秒まで休憩\u001b[0m\u001b[1;33m\u001b[0m\u001b[1;33m\u001b[0m\u001b[1;33m\u001b[0m\u001b[0m\n\u001b[1;32m---> 11\u001b[1;33m         \u001b[0mtime\u001b[0m\u001b[1;33m.\u001b[0m\u001b[0msleep\u001b[0m\u001b[1;33m(\u001b[0m\u001b[1;36m57\u001b[0m\u001b[1;33m)\u001b[0m\u001b[1;33m\u001b[0m\u001b[1;33m\u001b[0m\u001b[0m\n\u001b[0m",
      "\u001b[1;31mKeyboardInterrupt\u001b[0m: "
     ]
    }
   ],
   "source": [
    "# 最終取引価格を格納する配列\n",
    "raws = []\n",
    "\n",
    "while True:\n",
    "    # 毎分00秒に稼働\n",
    "    if datetime.now().strftime('%S') [0:2]== '00':\n",
    "        tick = api.ticker(product_code = \"BTC_JPY\")\n",
    "        raws.append(tick)\n",
    "        print(tick)\n",
    "        # 次の00秒まで休憩\n",
    "        time.sleep(57)\n"
   ]
  },
  {
   "cell_type": "code",
   "execution_count": null,
   "metadata": {},
   "outputs": [],
   "source": [
    "raws"
   ]
  },
  {
   "cell_type": "code",
   "execution_count": null,
   "metadata": {},
   "outputs": [],
   "source": []
  },
  {
   "cell_type": "code",
   "execution_count": null,
   "metadata": {},
   "outputs": [],
   "source": []
  },
  {
   "cell_type": "code",
   "execution_count": null,
   "metadata": {},
   "outputs": [],
   "source": []
  }
 ],
 "metadata": {
  "kernelspec": {
   "display_name": "Python 3",
   "language": "python",
   "name": "python3"
  },
  "language_info": {
   "codemirror_mode": {
    "name": "ipython",
    "version": 3
   },
   "file_extension": ".py",
   "mimetype": "text/x-python",
   "name": "python",
   "nbconvert_exporter": "python",
   "pygments_lexer": "ipython3",
   "version": "3.7.6"
  }
 },
 "nbformat": 4,
 "nbformat_minor": 4
}
