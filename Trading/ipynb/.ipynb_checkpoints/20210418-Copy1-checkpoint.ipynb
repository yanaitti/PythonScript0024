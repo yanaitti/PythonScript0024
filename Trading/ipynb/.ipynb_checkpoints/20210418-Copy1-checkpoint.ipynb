{
 "cells": [
  {
   "cell_type": "code",
   "execution_count": 1,
   "metadata": {},
   "outputs": [],
   "source": [
    "import pandas as pd\n",
    "import numpy as np\n",
    "from matplotlib import pyplot as plt\n",
    "%matplotlib inline\n",
    "import seaborn as sns"
   ]
  },
  {
   "cell_type": "code",
   "execution_count": 2,
   "metadata": {},
   "outputs": [],
   "source": [
    "import datetime"
   ]
  },
  {
   "cell_type": "code",
   "execution_count": 3,
   "metadata": {},
   "outputs": [
    {
     "name": "stdout",
     "output_type": "stream",
     "text": [
      " Volume in drive D has no label.\n",
      " Volume Serial Number is F6A2-5568\n",
      "\n",
      " Directory of D:\\PythonTraining\\Trading\\other_fx\\inputs\n",
      "\n",
      "2021/04/18  16:23    <DIR>          .\n",
      "2021/04/18  16:23    <DIR>          ..\n",
      "2021/04/18  16:22         2,573,622 EURGBP_M10_202003020000_202104162350.csv\n",
      "2021/04/18  16:22         2,576,106 EURJPY_M10_202003020000_202104162350.csv\n",
      "2021/04/18  16:21         2,571,608 EURUSD_M10_202003020000_202104162350.csv\n",
      "2021/04/18  16:22         2,585,572 GBPJPY_M10_202003020000_202104162350.csv\n",
      "2021/04/18  16:22         2,578,380 GBPUSD_M10_202003020000_202104162350.csv\n",
      "2021/04/18  15:32    <DIR>          m1\n",
      "2021/04/18  16:23    <DIR>          m5\n",
      "2021/04/18  16:22         2,571,975 USDJPY_M10_202003020000_202104162350.csv\n",
      "               6 File(s)     15,457,263 bytes\n",
      "               4 Dir(s)  466,181,480,448 bytes free\n"
     ]
    }
   ],
   "source": [
    "!dir inputs"
   ]
  },
  {
   "cell_type": "code",
   "execution_count": 4,
   "metadata": {},
   "outputs": [],
   "source": [
    "dataset = pd.read_csv('inputs/USDJPY_M10_202003020000_202104162350.csv', sep='\\t')"
   ]
  },
  {
   "cell_type": "code",
   "execution_count": 5,
   "metadata": {},
   "outputs": [],
   "source": [
    "df = pd.DataFrame()\n",
    "\n",
    "for i in range(1, 13):\n",
    "    df['<CLOSE>'] = dataset['<CLOSE>']\n",
    "    df['shift%s'%i] = dataset['<CLOSE>'].shift(i)\n",
    "    df['SMA20'] = df['shift1'].rolling(20).mean().fillna(0)\n",
    "    df['SMA50'] = df['shift1'].rolling(50).mean().fillna(0)\n",
    "    df['SMA100'] = df['shift1'].rolling(100).mean().fillna(0)\n"
   ]
  },
  {
   "cell_type": "code",
   "execution_count": 6,
   "metadata": {},
   "outputs": [
    {
     "data": {
      "text/html": [
       "<div>\n",
       "<style scoped>\n",
       "    .dataframe tbody tr th:only-of-type {\n",
       "        vertical-align: middle;\n",
       "    }\n",
       "\n",
       "    .dataframe tbody tr th {\n",
       "        vertical-align: top;\n",
       "    }\n",
       "\n",
       "    .dataframe thead th {\n",
       "        text-align: right;\n",
       "    }\n",
       "</style>\n",
       "<table border=\"1\" class=\"dataframe\">\n",
       "  <thead>\n",
       "    <tr style=\"text-align: right;\">\n",
       "      <th></th>\n",
       "      <th>&lt;CLOSE&gt;</th>\n",
       "      <th>shift1</th>\n",
       "      <th>SMA20</th>\n",
       "      <th>SMA50</th>\n",
       "      <th>SMA100</th>\n",
       "      <th>shift2</th>\n",
       "      <th>shift3</th>\n",
       "      <th>shift4</th>\n",
       "      <th>shift5</th>\n",
       "      <th>shift6</th>\n",
       "      <th>shift7</th>\n",
       "      <th>shift8</th>\n",
       "      <th>shift9</th>\n",
       "      <th>shift10</th>\n",
       "      <th>shift11</th>\n",
       "      <th>shift12</th>\n",
       "    </tr>\n",
       "  </thead>\n",
       "  <tbody>\n",
       "    <tr>\n",
       "      <th>0</th>\n",
       "      <td>107.664</td>\n",
       "      <td>NaN</td>\n",
       "      <td>0.00000</td>\n",
       "      <td>0.00000</td>\n",
       "      <td>0.00000</td>\n",
       "      <td>NaN</td>\n",
       "      <td>NaN</td>\n",
       "      <td>NaN</td>\n",
       "      <td>NaN</td>\n",
       "      <td>NaN</td>\n",
       "      <td>NaN</td>\n",
       "      <td>NaN</td>\n",
       "      <td>NaN</td>\n",
       "      <td>NaN</td>\n",
       "      <td>NaN</td>\n",
       "      <td>NaN</td>\n",
       "    </tr>\n",
       "    <tr>\n",
       "      <th>1</th>\n",
       "      <td>107.704</td>\n",
       "      <td>107.664</td>\n",
       "      <td>0.00000</td>\n",
       "      <td>0.00000</td>\n",
       "      <td>0.00000</td>\n",
       "      <td>NaN</td>\n",
       "      <td>NaN</td>\n",
       "      <td>NaN</td>\n",
       "      <td>NaN</td>\n",
       "      <td>NaN</td>\n",
       "      <td>NaN</td>\n",
       "      <td>NaN</td>\n",
       "      <td>NaN</td>\n",
       "      <td>NaN</td>\n",
       "      <td>NaN</td>\n",
       "      <td>NaN</td>\n",
       "    </tr>\n",
       "    <tr>\n",
       "      <th>2</th>\n",
       "      <td>107.717</td>\n",
       "      <td>107.704</td>\n",
       "      <td>0.00000</td>\n",
       "      <td>0.00000</td>\n",
       "      <td>0.00000</td>\n",
       "      <td>107.664</td>\n",
       "      <td>NaN</td>\n",
       "      <td>NaN</td>\n",
       "      <td>NaN</td>\n",
       "      <td>NaN</td>\n",
       "      <td>NaN</td>\n",
       "      <td>NaN</td>\n",
       "      <td>NaN</td>\n",
       "      <td>NaN</td>\n",
       "      <td>NaN</td>\n",
       "      <td>NaN</td>\n",
       "    </tr>\n",
       "    <tr>\n",
       "      <th>3</th>\n",
       "      <td>107.708</td>\n",
       "      <td>107.717</td>\n",
       "      <td>0.00000</td>\n",
       "      <td>0.00000</td>\n",
       "      <td>0.00000</td>\n",
       "      <td>107.704</td>\n",
       "      <td>107.664</td>\n",
       "      <td>NaN</td>\n",
       "      <td>NaN</td>\n",
       "      <td>NaN</td>\n",
       "      <td>NaN</td>\n",
       "      <td>NaN</td>\n",
       "      <td>NaN</td>\n",
       "      <td>NaN</td>\n",
       "      <td>NaN</td>\n",
       "      <td>NaN</td>\n",
       "    </tr>\n",
       "    <tr>\n",
       "      <th>4</th>\n",
       "      <td>107.578</td>\n",
       "      <td>107.708</td>\n",
       "      <td>0.00000</td>\n",
       "      <td>0.00000</td>\n",
       "      <td>0.00000</td>\n",
       "      <td>107.717</td>\n",
       "      <td>107.704</td>\n",
       "      <td>107.664</td>\n",
       "      <td>NaN</td>\n",
       "      <td>NaN</td>\n",
       "      <td>NaN</td>\n",
       "      <td>NaN</td>\n",
       "      <td>NaN</td>\n",
       "      <td>NaN</td>\n",
       "      <td>NaN</td>\n",
       "      <td>NaN</td>\n",
       "    </tr>\n",
       "    <tr>\n",
       "      <th>...</th>\n",
       "      <td>...</td>\n",
       "      <td>...</td>\n",
       "      <td>...</td>\n",
       "      <td>...</td>\n",
       "      <td>...</td>\n",
       "      <td>...</td>\n",
       "      <td>...</td>\n",
       "      <td>...</td>\n",
       "      <td>...</td>\n",
       "      <td>...</td>\n",
       "      <td>...</td>\n",
       "      <td>...</td>\n",
       "      <td>...</td>\n",
       "      <td>...</td>\n",
       "      <td>...</td>\n",
       "      <td>...</td>\n",
       "    </tr>\n",
       "    <tr>\n",
       "      <th>42121</th>\n",
       "      <td>108.784</td>\n",
       "      <td>108.787</td>\n",
       "      <td>108.78430</td>\n",
       "      <td>108.80370</td>\n",
       "      <td>108.81857</td>\n",
       "      <td>108.793</td>\n",
       "      <td>108.788</td>\n",
       "      <td>108.793</td>\n",
       "      <td>108.782</td>\n",
       "      <td>108.783</td>\n",
       "      <td>108.770</td>\n",
       "      <td>108.793</td>\n",
       "      <td>108.764</td>\n",
       "      <td>108.778</td>\n",
       "      <td>108.787</td>\n",
       "      <td>108.788</td>\n",
       "    </tr>\n",
       "    <tr>\n",
       "      <th>42122</th>\n",
       "      <td>108.797</td>\n",
       "      <td>108.784</td>\n",
       "      <td>108.78445</td>\n",
       "      <td>108.80394</td>\n",
       "      <td>108.81797</td>\n",
       "      <td>108.787</td>\n",
       "      <td>108.793</td>\n",
       "      <td>108.788</td>\n",
       "      <td>108.793</td>\n",
       "      <td>108.782</td>\n",
       "      <td>108.783</td>\n",
       "      <td>108.770</td>\n",
       "      <td>108.793</td>\n",
       "      <td>108.764</td>\n",
       "      <td>108.778</td>\n",
       "      <td>108.787</td>\n",
       "    </tr>\n",
       "    <tr>\n",
       "      <th>42123</th>\n",
       "      <td>108.796</td>\n",
       "      <td>108.797</td>\n",
       "      <td>108.78565</td>\n",
       "      <td>108.80468</td>\n",
       "      <td>108.81754</td>\n",
       "      <td>108.784</td>\n",
       "      <td>108.787</td>\n",
       "      <td>108.793</td>\n",
       "      <td>108.788</td>\n",
       "      <td>108.793</td>\n",
       "      <td>108.782</td>\n",
       "      <td>108.783</td>\n",
       "      <td>108.770</td>\n",
       "      <td>108.793</td>\n",
       "      <td>108.764</td>\n",
       "      <td>108.778</td>\n",
       "    </tr>\n",
       "    <tr>\n",
       "      <th>42124</th>\n",
       "      <td>108.782</td>\n",
       "      <td>108.796</td>\n",
       "      <td>108.78685</td>\n",
       "      <td>108.80434</td>\n",
       "      <td>108.81708</td>\n",
       "      <td>108.797</td>\n",
       "      <td>108.784</td>\n",
       "      <td>108.787</td>\n",
       "      <td>108.793</td>\n",
       "      <td>108.788</td>\n",
       "      <td>108.793</td>\n",
       "      <td>108.782</td>\n",
       "      <td>108.783</td>\n",
       "      <td>108.770</td>\n",
       "      <td>108.793</td>\n",
       "      <td>108.764</td>\n",
       "    </tr>\n",
       "    <tr>\n",
       "      <th>42125</th>\n",
       "      <td>108.793</td>\n",
       "      <td>108.782</td>\n",
       "      <td>108.78695</td>\n",
       "      <td>108.80354</td>\n",
       "      <td>108.81662</td>\n",
       "      <td>108.796</td>\n",
       "      <td>108.797</td>\n",
       "      <td>108.784</td>\n",
       "      <td>108.787</td>\n",
       "      <td>108.793</td>\n",
       "      <td>108.788</td>\n",
       "      <td>108.793</td>\n",
       "      <td>108.782</td>\n",
       "      <td>108.783</td>\n",
       "      <td>108.770</td>\n",
       "      <td>108.793</td>\n",
       "    </tr>\n",
       "  </tbody>\n",
       "</table>\n",
       "<p>42126 rows × 16 columns</p>\n",
       "</div>"
      ],
      "text/plain": [
       "       <CLOSE>   shift1      SMA20      SMA50     SMA100   shift2   shift3  \\\n",
       "0      107.664      NaN    0.00000    0.00000    0.00000      NaN      NaN   \n",
       "1      107.704  107.664    0.00000    0.00000    0.00000      NaN      NaN   \n",
       "2      107.717  107.704    0.00000    0.00000    0.00000  107.664      NaN   \n",
       "3      107.708  107.717    0.00000    0.00000    0.00000  107.704  107.664   \n",
       "4      107.578  107.708    0.00000    0.00000    0.00000  107.717  107.704   \n",
       "...        ...      ...        ...        ...        ...      ...      ...   \n",
       "42121  108.784  108.787  108.78430  108.80370  108.81857  108.793  108.788   \n",
       "42122  108.797  108.784  108.78445  108.80394  108.81797  108.787  108.793   \n",
       "42123  108.796  108.797  108.78565  108.80468  108.81754  108.784  108.787   \n",
       "42124  108.782  108.796  108.78685  108.80434  108.81708  108.797  108.784   \n",
       "42125  108.793  108.782  108.78695  108.80354  108.81662  108.796  108.797   \n",
       "\n",
       "        shift4   shift5   shift6   shift7   shift8   shift9  shift10  shift11  \\\n",
       "0          NaN      NaN      NaN      NaN      NaN      NaN      NaN      NaN   \n",
       "1          NaN      NaN      NaN      NaN      NaN      NaN      NaN      NaN   \n",
       "2          NaN      NaN      NaN      NaN      NaN      NaN      NaN      NaN   \n",
       "3          NaN      NaN      NaN      NaN      NaN      NaN      NaN      NaN   \n",
       "4      107.664      NaN      NaN      NaN      NaN      NaN      NaN      NaN   \n",
       "...        ...      ...      ...      ...      ...      ...      ...      ...   \n",
       "42121  108.793  108.782  108.783  108.770  108.793  108.764  108.778  108.787   \n",
       "42122  108.788  108.793  108.782  108.783  108.770  108.793  108.764  108.778   \n",
       "42123  108.793  108.788  108.793  108.782  108.783  108.770  108.793  108.764   \n",
       "42124  108.787  108.793  108.788  108.793  108.782  108.783  108.770  108.793   \n",
       "42125  108.784  108.787  108.793  108.788  108.793  108.782  108.783  108.770   \n",
       "\n",
       "       shift12  \n",
       "0          NaN  \n",
       "1          NaN  \n",
       "2          NaN  \n",
       "3          NaN  \n",
       "4          NaN  \n",
       "...        ...  \n",
       "42121  108.788  \n",
       "42122  108.787  \n",
       "42123  108.778  \n",
       "42124  108.764  \n",
       "42125  108.793  \n",
       "\n",
       "[42126 rows x 16 columns]"
      ]
     },
     "execution_count": 6,
     "metadata": {},
     "output_type": "execute_result"
    }
   ],
   "source": [
    "df"
   ]
  },
  {
   "cell_type": "code",
   "execution_count": 7,
   "metadata": {},
   "outputs": [],
   "source": [
    "# df[1439:]\n",
    "X = df[1439:].drop(['<CLOSE>'], axis=1)\n",
    "y =  df[1439:]['<CLOSE>']"
   ]
  },
  {
   "cell_type": "code",
   "execution_count": 8,
   "metadata": {},
   "outputs": [
    {
     "data": {
      "text/html": [
       "<div>\n",
       "<style scoped>\n",
       "    .dataframe tbody tr th:only-of-type {\n",
       "        vertical-align: middle;\n",
       "    }\n",
       "\n",
       "    .dataframe tbody tr th {\n",
       "        vertical-align: top;\n",
       "    }\n",
       "\n",
       "    .dataframe thead th {\n",
       "        text-align: right;\n",
       "    }\n",
       "</style>\n",
       "<table border=\"1\" class=\"dataframe\">\n",
       "  <thead>\n",
       "    <tr style=\"text-align: right;\">\n",
       "      <th></th>\n",
       "      <th>shift1</th>\n",
       "      <th>SMA20</th>\n",
       "      <th>SMA50</th>\n",
       "      <th>SMA100</th>\n",
       "      <th>shift2</th>\n",
       "      <th>shift3</th>\n",
       "      <th>shift4</th>\n",
       "      <th>shift5</th>\n",
       "      <th>shift6</th>\n",
       "      <th>shift7</th>\n",
       "      <th>shift8</th>\n",
       "      <th>shift9</th>\n",
       "      <th>shift10</th>\n",
       "      <th>shift11</th>\n",
       "      <th>shift12</th>\n",
       "    </tr>\n",
       "  </thead>\n",
       "  <tbody>\n",
       "    <tr>\n",
       "      <th>1439</th>\n",
       "      <td>106.427</td>\n",
       "      <td>107.69500</td>\n",
       "      <td>107.46492</td>\n",
       "      <td>106.82908</td>\n",
       "      <td>106.382</td>\n",
       "      <td>105.985</td>\n",
       "      <td>106.255</td>\n",
       "      <td>106.703</td>\n",
       "      <td>107.998</td>\n",
       "      <td>108.020</td>\n",
       "      <td>107.994</td>\n",
       "      <td>108.077</td>\n",
       "      <td>108.345</td>\n",
       "      <td>108.349</td>\n",
       "      <td>108.217</td>\n",
       "    </tr>\n",
       "    <tr>\n",
       "      <th>1440</th>\n",
       "      <td>106.392</td>\n",
       "      <td>107.62205</td>\n",
       "      <td>107.45302</td>\n",
       "      <td>106.83332</td>\n",
       "      <td>106.427</td>\n",
       "      <td>106.382</td>\n",
       "      <td>105.985</td>\n",
       "      <td>106.255</td>\n",
       "      <td>106.703</td>\n",
       "      <td>107.998</td>\n",
       "      <td>108.020</td>\n",
       "      <td>107.994</td>\n",
       "      <td>108.077</td>\n",
       "      <td>108.345</td>\n",
       "      <td>108.349</td>\n",
       "    </tr>\n",
       "    <tr>\n",
       "      <th>1441</th>\n",
       "      <td>106.329</td>\n",
       "      <td>107.54275</td>\n",
       "      <td>107.44262</td>\n",
       "      <td>106.83887</td>\n",
       "      <td>106.392</td>\n",
       "      <td>106.427</td>\n",
       "      <td>106.382</td>\n",
       "      <td>105.985</td>\n",
       "      <td>106.255</td>\n",
       "      <td>106.703</td>\n",
       "      <td>107.998</td>\n",
       "      <td>108.020</td>\n",
       "      <td>107.994</td>\n",
       "      <td>108.077</td>\n",
       "      <td>108.345</td>\n",
       "    </tr>\n",
       "    <tr>\n",
       "      <th>1442</th>\n",
       "      <td>106.170</td>\n",
       "      <td>107.44365</td>\n",
       "      <td>107.42978</td>\n",
       "      <td>106.84225</td>\n",
       "      <td>106.329</td>\n",
       "      <td>106.392</td>\n",
       "      <td>106.427</td>\n",
       "      <td>106.382</td>\n",
       "      <td>105.985</td>\n",
       "      <td>106.255</td>\n",
       "      <td>106.703</td>\n",
       "      <td>107.998</td>\n",
       "      <td>108.020</td>\n",
       "      <td>107.994</td>\n",
       "      <td>108.077</td>\n",
       "    </tr>\n",
       "    <tr>\n",
       "      <th>1443</th>\n",
       "      <td>105.983</td>\n",
       "      <td>107.33520</td>\n",
       "      <td>107.41168</td>\n",
       "      <td>106.84687</td>\n",
       "      <td>106.170</td>\n",
       "      <td>106.329</td>\n",
       "      <td>106.392</td>\n",
       "      <td>106.427</td>\n",
       "      <td>106.382</td>\n",
       "      <td>105.985</td>\n",
       "      <td>106.255</td>\n",
       "      <td>106.703</td>\n",
       "      <td>107.998</td>\n",
       "      <td>108.020</td>\n",
       "      <td>107.994</td>\n",
       "    </tr>\n",
       "    <tr>\n",
       "      <th>...</th>\n",
       "      <td>...</td>\n",
       "      <td>...</td>\n",
       "      <td>...</td>\n",
       "      <td>...</td>\n",
       "      <td>...</td>\n",
       "      <td>...</td>\n",
       "      <td>...</td>\n",
       "      <td>...</td>\n",
       "      <td>...</td>\n",
       "      <td>...</td>\n",
       "      <td>...</td>\n",
       "      <td>...</td>\n",
       "      <td>...</td>\n",
       "      <td>...</td>\n",
       "      <td>...</td>\n",
       "    </tr>\n",
       "    <tr>\n",
       "      <th>42121</th>\n",
       "      <td>108.787</td>\n",
       "      <td>108.78430</td>\n",
       "      <td>108.80370</td>\n",
       "      <td>108.81857</td>\n",
       "      <td>108.793</td>\n",
       "      <td>108.788</td>\n",
       "      <td>108.793</td>\n",
       "      <td>108.782</td>\n",
       "      <td>108.783</td>\n",
       "      <td>108.770</td>\n",
       "      <td>108.793</td>\n",
       "      <td>108.764</td>\n",
       "      <td>108.778</td>\n",
       "      <td>108.787</td>\n",
       "      <td>108.788</td>\n",
       "    </tr>\n",
       "    <tr>\n",
       "      <th>42122</th>\n",
       "      <td>108.784</td>\n",
       "      <td>108.78445</td>\n",
       "      <td>108.80394</td>\n",
       "      <td>108.81797</td>\n",
       "      <td>108.787</td>\n",
       "      <td>108.793</td>\n",
       "      <td>108.788</td>\n",
       "      <td>108.793</td>\n",
       "      <td>108.782</td>\n",
       "      <td>108.783</td>\n",
       "      <td>108.770</td>\n",
       "      <td>108.793</td>\n",
       "      <td>108.764</td>\n",
       "      <td>108.778</td>\n",
       "      <td>108.787</td>\n",
       "    </tr>\n",
       "    <tr>\n",
       "      <th>42123</th>\n",
       "      <td>108.797</td>\n",
       "      <td>108.78565</td>\n",
       "      <td>108.80468</td>\n",
       "      <td>108.81754</td>\n",
       "      <td>108.784</td>\n",
       "      <td>108.787</td>\n",
       "      <td>108.793</td>\n",
       "      <td>108.788</td>\n",
       "      <td>108.793</td>\n",
       "      <td>108.782</td>\n",
       "      <td>108.783</td>\n",
       "      <td>108.770</td>\n",
       "      <td>108.793</td>\n",
       "      <td>108.764</td>\n",
       "      <td>108.778</td>\n",
       "    </tr>\n",
       "    <tr>\n",
       "      <th>42124</th>\n",
       "      <td>108.796</td>\n",
       "      <td>108.78685</td>\n",
       "      <td>108.80434</td>\n",
       "      <td>108.81708</td>\n",
       "      <td>108.797</td>\n",
       "      <td>108.784</td>\n",
       "      <td>108.787</td>\n",
       "      <td>108.793</td>\n",
       "      <td>108.788</td>\n",
       "      <td>108.793</td>\n",
       "      <td>108.782</td>\n",
       "      <td>108.783</td>\n",
       "      <td>108.770</td>\n",
       "      <td>108.793</td>\n",
       "      <td>108.764</td>\n",
       "    </tr>\n",
       "    <tr>\n",
       "      <th>42125</th>\n",
       "      <td>108.782</td>\n",
       "      <td>108.78695</td>\n",
       "      <td>108.80354</td>\n",
       "      <td>108.81662</td>\n",
       "      <td>108.796</td>\n",
       "      <td>108.797</td>\n",
       "      <td>108.784</td>\n",
       "      <td>108.787</td>\n",
       "      <td>108.793</td>\n",
       "      <td>108.788</td>\n",
       "      <td>108.793</td>\n",
       "      <td>108.782</td>\n",
       "      <td>108.783</td>\n",
       "      <td>108.770</td>\n",
       "      <td>108.793</td>\n",
       "    </tr>\n",
       "  </tbody>\n",
       "</table>\n",
       "<p>40687 rows × 15 columns</p>\n",
       "</div>"
      ],
      "text/plain": [
       "        shift1      SMA20      SMA50     SMA100   shift2   shift3   shift4  \\\n",
       "1439   106.427  107.69500  107.46492  106.82908  106.382  105.985  106.255   \n",
       "1440   106.392  107.62205  107.45302  106.83332  106.427  106.382  105.985   \n",
       "1441   106.329  107.54275  107.44262  106.83887  106.392  106.427  106.382   \n",
       "1442   106.170  107.44365  107.42978  106.84225  106.329  106.392  106.427   \n",
       "1443   105.983  107.33520  107.41168  106.84687  106.170  106.329  106.392   \n",
       "...        ...        ...        ...        ...      ...      ...      ...   \n",
       "42121  108.787  108.78430  108.80370  108.81857  108.793  108.788  108.793   \n",
       "42122  108.784  108.78445  108.80394  108.81797  108.787  108.793  108.788   \n",
       "42123  108.797  108.78565  108.80468  108.81754  108.784  108.787  108.793   \n",
       "42124  108.796  108.78685  108.80434  108.81708  108.797  108.784  108.787   \n",
       "42125  108.782  108.78695  108.80354  108.81662  108.796  108.797  108.784   \n",
       "\n",
       "        shift5   shift6   shift7   shift8   shift9  shift10  shift11  shift12  \n",
       "1439   106.703  107.998  108.020  107.994  108.077  108.345  108.349  108.217  \n",
       "1440   106.255  106.703  107.998  108.020  107.994  108.077  108.345  108.349  \n",
       "1441   105.985  106.255  106.703  107.998  108.020  107.994  108.077  108.345  \n",
       "1442   106.382  105.985  106.255  106.703  107.998  108.020  107.994  108.077  \n",
       "1443   106.427  106.382  105.985  106.255  106.703  107.998  108.020  107.994  \n",
       "...        ...      ...      ...      ...      ...      ...      ...      ...  \n",
       "42121  108.782  108.783  108.770  108.793  108.764  108.778  108.787  108.788  \n",
       "42122  108.793  108.782  108.783  108.770  108.793  108.764  108.778  108.787  \n",
       "42123  108.788  108.793  108.782  108.783  108.770  108.793  108.764  108.778  \n",
       "42124  108.793  108.788  108.793  108.782  108.783  108.770  108.793  108.764  \n",
       "42125  108.787  108.793  108.788  108.793  108.782  108.783  108.770  108.793  \n",
       "\n",
       "[40687 rows x 15 columns]"
      ]
     },
     "execution_count": 8,
     "metadata": {},
     "output_type": "execute_result"
    }
   ],
   "source": [
    "X"
   ]
  },
  {
   "cell_type": "markdown",
   "metadata": {},
   "source": [
    "# Make Predict model by LightGBM"
   ]
  },
  {
   "cell_type": "code",
   "execution_count": 9,
   "metadata": {},
   "outputs": [],
   "source": [
    "import lightgbm as lgb\n",
    "from sklearn.metrics import mean_squared_error\n",
    "from sklearn.model_selection import KFold, train_test_split"
   ]
  },
  {
   "cell_type": "code",
   "execution_count": 10,
   "metadata": {},
   "outputs": [
    {
     "data": {
      "text/plain": [
       "(40687, 15)"
      ]
     },
     "execution_count": 10,
     "metadata": {},
     "output_type": "execute_result"
    }
   ],
   "source": [
    "X.shape"
   ]
  },
  {
   "cell_type": "code",
   "execution_count": 11,
   "metadata": {},
   "outputs": [
    {
     "data": {
      "text/plain": [
       "(40687,)"
      ]
     },
     "execution_count": 11,
     "metadata": {},
     "output_type": "execute_result"
    }
   ],
   "source": [
    "y.shape"
   ]
  },
  {
   "cell_type": "code",
   "execution_count": 12,
   "metadata": {},
   "outputs": [
    {
     "data": {
      "text/plain": [
       "['shift1',\n",
       " 'SMA20',\n",
       " 'SMA50',\n",
       " 'SMA100',\n",
       " 'shift2',\n",
       " 'shift3',\n",
       " 'shift4',\n",
       " 'shift5',\n",
       " 'shift6',\n",
       " 'shift7',\n",
       " 'shift8',\n",
       " 'shift9',\n",
       " 'shift10',\n",
       " 'shift11',\n",
       " 'shift12']"
      ]
     },
     "execution_count": 12,
     "metadata": {},
     "output_type": "execute_result"
    }
   ],
   "source": [
    "X.columns.tolist()"
   ]
  },
  {
   "cell_type": "code",
   "execution_count": 13,
   "metadata": {},
   "outputs": [],
   "source": [
    "X_train, X_test, y_train, y_test = train_test_split(X, y, test_size=0.5, shuffle=False)\n",
    "X_train, X_val, y_train, y_val = train_test_split(X_train, y_train, test_size=0.2, shuffle=False)"
   ]
  },
  {
   "cell_type": "code",
   "execution_count": 14,
   "metadata": {},
   "outputs": [],
   "source": [
    "lgb_train = lgb.Dataset(X_train, y_train)\n",
    "lgb_eval = lgb.Dataset(X_val, y_val, reference=lgb_train)"
   ]
  },
  {
   "cell_type": "code",
   "execution_count": 15,
   "metadata": {},
   "outputs": [],
   "source": [
    "# LightGBM parameters\n",
    "params = {\n",
    "        'task' : 'train',\n",
    "        'boosting':'gbdt',\n",
    "        'objective' : 'regression',\n",
    "        'metric' : {'mse'},\n",
    "        'num_leaves':78,\n",
    "        'drop_rate':0.05,\n",
    "        'learning_rate':0.01,\n",
    "        'seed':0,\n",
    "        'verbose':0,\n",
    "        'device': 'cpu'\n",
    "}"
   ]
  },
  {
   "cell_type": "code",
   "execution_count": 16,
   "metadata": {},
   "outputs": [
    {
     "name": "stdout",
     "output_type": "stream",
     "text": [
      "[LightGBM] [Warning] Auto-choosing col-wise multi-threading, the overhead of testing was 0.003573 seconds.\n",
      "You can set `force_col_wise=true` to remove the overhead.\n",
      "Training until validation scores don't improve for 1000 rounds\n",
      "[100]\tTrain's l2: 0.185446\tValid's l2: 0.414059\n",
      "[200]\tTrain's l2: 0.0267644\tValid's l2: 0.0598129\n",
      "[300]\tTrain's l2: 0.00534574\tValid's l2: 0.011808\n",
      "[400]\tTrain's l2: 0.00234904\tValid's l2: 0.0049969\n",
      "[500]\tTrain's l2: 0.00184809\tValid's l2: 0.00401511\n",
      "[600]\tTrain's l2: 0.00170253\tValid's l2: 0.00386602\n",
      "[700]\tTrain's l2: 0.00162196\tValid's l2: 0.00385343\n",
      "[800]\tTrain's l2: 0.00155794\tValid's l2: 0.00385059\n",
      "[900]\tTrain's l2: 0.00150309\tValid's l2: 0.00387375\n",
      "[1000]\tTrain's l2: 0.00145991\tValid's l2: 0.00389605\n",
      "[1100]\tTrain's l2: 0.00142188\tValid's l2: 0.0039332\n",
      "[1200]\tTrain's l2: 0.00138985\tValid's l2: 0.00397025\n",
      "[1300]\tTrain's l2: 0.00136136\tValid's l2: 0.00400837\n",
      "[1400]\tTrain's l2: 0.0013335\tValid's l2: 0.0040391\n",
      "[1500]\tTrain's l2: 0.00130397\tValid's l2: 0.00405685\n",
      "[1600]\tTrain's l2: 0.00127567\tValid's l2: 0.00406371\n",
      "Early stopping, best iteration is:\n",
      "[653]\tTrain's l2: 0.00165668\tValid's l2: 0.0038501\n"
     ]
    }
   ],
   "source": [
    "evaluation_results = {}\n",
    "gbm = lgb.train(params,\n",
    "                lgb_train,\n",
    "                num_boost_round=100000,\n",
    "                valid_sets=[lgb_train, lgb_eval],\n",
    "                valid_names=['Train', 'Valid'],\n",
    "                evals_result=evaluation_results,\n",
    "                early_stopping_rounds=1000,\n",
    "                verbose_eval=100)"
   ]
  },
  {
   "cell_type": "code",
   "execution_count": 17,
   "metadata": {},
   "outputs": [],
   "source": [
    "y_pred = gbm.predict(X_test, num_iteration=gbm.best_iteration)"
   ]
  },
  {
   "cell_type": "code",
   "execution_count": 18,
   "metadata": {},
   "outputs": [
    {
     "data": {
      "text/plain": [
       "array([105.61821612, 105.61821612, 105.65263579, ..., 108.79409552,\n",
       "       108.79413607, 108.79324608])"
      ]
     },
     "execution_count": 18,
     "metadata": {},
     "output_type": "execute_result"
    }
   ],
   "source": [
    "y_pred"
   ]
  },
  {
   "cell_type": "code",
   "execution_count": 19,
   "metadata": {},
   "outputs": [
    {
     "data": {
      "text/plain": [
       "<matplotlib.legend.Legend at 0x228530810c8>"
      ]
     },
     "execution_count": 19,
     "metadata": {},
     "output_type": "execute_result"
    },
    {
     "data": {
      "image/png": "[encoded data removed]",
      "text/plain": [
       "<Figure size 1152x360 with 1 Axes>"
      ]
     },
     "metadata": {
      "needs_background": "light"
     },
     "output_type": "display_data"
    }
   ],
   "source": [
    "y_ = np.concatenate([np.array([None for i in range(len(y_train)+len(y_val))]) , y_pred])\n",
    "y_ = pd.DataFrame(y_, index=X.index)\n",
    "\n",
    "plt.figure(figsize=(16,5))\n",
    "plt.plot(y[-512:], label='original')\n",
    "plt.plot(y_[-512:], '--', label='predict')\n",
    "plt.legend()"
   ]
  },
  {
   "cell_type": "code",
   "execution_count": 20,
   "metadata": {},
   "outputs": [
    {
     "data": {
      "text/plain": [
       "4069"
      ]
     },
     "execution_count": 20,
     "metadata": {},
     "output_type": "execute_result"
    }
   ],
   "source": [
    "len(y_val)"
   ]
  },
  {
   "cell_type": "code",
   "execution_count": 21,
   "metadata": {},
   "outputs": [
    {
     "data": {
      "text/plain": [
       "<matplotlib.legend.Legend at 0x22853161d88>"
      ]
     },
     "execution_count": 21,
     "metadata": {},
     "output_type": "execute_result"
    },
    {
     "data": {
      "image/png": "[encoded data removed]",
      "text/plain": [
       "<Figure size 1152x360 with 1 Axes>"
      ]
     },
     "metadata": {
      "needs_background": "light"
     },
     "output_type": "display_data"
    }
   ],
   "source": [
    "y_ = np.concatenate([np.array([None for i in range(len(y_train)+len(y_val))]) , y_pred])\n",
    "y_ = pd.DataFrame(y_, index=X.index)\n",
    "\n",
    "plt.figure(figsize=(16,5))\n",
    "plt.plot(y[-1440:-1400], label='original')\n",
    "plt.plot(y_[-1440:-1400], '--', label='predict')\n",
    "plt.legend()"
   ]
  },
  {
   "cell_type": "markdown",
   "metadata": {},
   "source": [
    "# XGBoost"
   ]
  },
  {
   "cell_type": "code",
   "execution_count": 22,
   "metadata": {},
   "outputs": [
    {
     "ename": "XGBoostError",
     "evalue": "[19:36:29] C:/Users/Administrator/workspace/xgboost-win64_release_1.3.0/src/objective/regression_obj.cu:102: label must be in [0,1] for logistic regression",
     "output_type": "error",
     "traceback": [
      "\u001b[1;31m---------------------------------------------------------------------------\u001b[0m",
      "\u001b[1;31mXGBoostError\u001b[0m                              Traceback (most recent call last)",
      "\u001b[1;32m<ipython-input-22-c03ef9ec77c7>\u001b[0m in \u001b[0;36m<module>\u001b[1;34m\u001b[0m\n\u001b[0;32m     11\u001b[0m \u001b[1;33m\u001b[0m\u001b[0m\n\u001b[0;32m     12\u001b[0m \u001b[1;31m# XGBoostで学習\u001b[0m\u001b[1;33m\u001b[0m\u001b[1;33m\u001b[0m\u001b[1;33m\u001b[0m\u001b[0m\n\u001b[1;32m---> 13\u001b[1;33m \u001b[0mmodel\u001b[0m \u001b[1;33m=\u001b[0m \u001b[0mxgb\u001b[0m\u001b[1;33m.\u001b[0m\u001b[0mtrain\u001b[0m\u001b[1;33m(\u001b[0m\u001b[0mparam\u001b[0m\u001b[1;33m,\u001b[0m \u001b[0mdm_train\u001b[0m\u001b[1;33m)\u001b[0m\u001b[1;33m\u001b[0m\u001b[1;33m\u001b[0m\u001b[0m\n\u001b[0m",
      "\u001b[1;32mD:\\Anaconda3\\lib\\site-packages\\xgboost\\training.py\u001b[0m in \u001b[0;36mtrain\u001b[1;34m(params, dtrain, num_boost_round, evals, obj, feval, maximize, early_stopping_rounds, evals_result, verbose_eval, xgb_model, callbacks)\u001b[0m\n\u001b[0;32m    212\u001b[0m                           \u001b[0mevals_result\u001b[0m\u001b[1;33m=\u001b[0m\u001b[0mevals_result\u001b[0m\u001b[1;33m,\u001b[0m\u001b[1;33m\u001b[0m\u001b[1;33m\u001b[0m\u001b[0m\n\u001b[0;32m    213\u001b[0m                           \u001b[0mmaximize\u001b[0m\u001b[1;33m=\u001b[0m\u001b[0mmaximize\u001b[0m\u001b[1;33m,\u001b[0m\u001b[1;33m\u001b[0m\u001b[1;33m\u001b[0m\u001b[0m\n\u001b[1;32m--> 214\u001b[1;33m                           early_stopping_rounds=early_stopping_rounds)\n\u001b[0m\u001b[0;32m    215\u001b[0m     \u001b[1;32mreturn\u001b[0m \u001b[0mbst\u001b[0m\u001b[1;33m\u001b[0m\u001b[1;33m\u001b[0m\u001b[0m\n\u001b[0;32m    216\u001b[0m \u001b[1;33m\u001b[0m\u001b[0m\n",
      "\u001b[1;32mD:\\Anaconda3\\lib\\site-packages\\xgboost\\training.py\u001b[0m in \u001b[0;36m_train_internal\u001b[1;34m(params, dtrain, num_boost_round, evals, obj, feval, xgb_model, callbacks, evals_result, maximize, verbose_eval, early_stopping_rounds)\u001b[0m\n\u001b[0;32m     99\u001b[0m         \u001b[1;31m# Skip the first update if it is a recovery step.\u001b[0m\u001b[1;33m\u001b[0m\u001b[1;33m\u001b[0m\u001b[1;33m\u001b[0m\u001b[0m\n\u001b[0;32m    100\u001b[0m         \u001b[1;32mif\u001b[0m \u001b[0mversion\u001b[0m \u001b[1;33m%\u001b[0m \u001b[1;36m2\u001b[0m \u001b[1;33m==\u001b[0m \u001b[1;36m0\u001b[0m\u001b[1;33m:\u001b[0m\u001b[1;33m\u001b[0m\u001b[1;33m\u001b[0m\u001b[0m\n\u001b[1;32m--> 101\u001b[1;33m             \u001b[0mbst\u001b[0m\u001b[1;33m.\u001b[0m\u001b[0mupdate\u001b[0m\u001b[1;33m(\u001b[0m\u001b[0mdtrain\u001b[0m\u001b[1;33m,\u001b[0m \u001b[0mi\u001b[0m\u001b[1;33m,\u001b[0m \u001b[0mobj\u001b[0m\u001b[1;33m)\u001b[0m\u001b[1;33m\u001b[0m\u001b[1;33m\u001b[0m\u001b[0m\n\u001b[0m\u001b[0;32m    102\u001b[0m             \u001b[0mbst\u001b[0m\u001b[1;33m.\u001b[0m\u001b[0msave_rabit_checkpoint\u001b[0m\u001b[1;33m(\u001b[0m\u001b[1;33m)\u001b[0m\u001b[1;33m\u001b[0m\u001b[1;33m\u001b[0m\u001b[0m\n\u001b[0;32m    103\u001b[0m             \u001b[0mversion\u001b[0m \u001b[1;33m+=\u001b[0m \u001b[1;36m1\u001b[0m\u001b[1;33m\u001b[0m\u001b[1;33m\u001b[0m\u001b[0m\n",
      "\u001b[1;32mD:\\Anaconda3\\lib\\site-packages\\xgboost\\core.py\u001b[0m in \u001b[0;36mupdate\u001b[1;34m(self, dtrain, iteration, fobj)\u001b[0m\n\u001b[0;32m   1280\u001b[0m             _check_call(_LIB.XGBoosterUpdateOneIter(self.handle,\n\u001b[0;32m   1281\u001b[0m                                                     \u001b[0mctypes\u001b[0m\u001b[1;33m.\u001b[0m\u001b[0mc_int\u001b[0m\u001b[1;33m(\u001b[0m\u001b[0miteration\u001b[0m\u001b[1;33m)\u001b[0m\u001b[1;33m,\u001b[0m\u001b[1;33m\u001b[0m\u001b[1;33m\u001b[0m\u001b[0m\n\u001b[1;32m-> 1282\u001b[1;33m                                                     dtrain.handle))\n\u001b[0m\u001b[0;32m   1283\u001b[0m         \u001b[1;32melse\u001b[0m\u001b[1;33m:\u001b[0m\u001b[1;33m\u001b[0m\u001b[1;33m\u001b[0m\u001b[0m\n\u001b[0;32m   1284\u001b[0m             \u001b[0mpred\u001b[0m \u001b[1;33m=\u001b[0m \u001b[0mself\u001b[0m\u001b[1;33m.\u001b[0m\u001b[0mpredict\u001b[0m\u001b[1;33m(\u001b[0m\u001b[0mdtrain\u001b[0m\u001b[1;33m,\u001b[0m \u001b[0moutput_margin\u001b[0m\u001b[1;33m=\u001b[0m\u001b[1;32mTrue\u001b[0m\u001b[1;33m,\u001b[0m \u001b[0mtraining\u001b[0m\u001b[1;33m=\u001b[0m\u001b[1;32mTrue\u001b[0m\u001b[1;33m)\u001b[0m\u001b[1;33m\u001b[0m\u001b[1;33m\u001b[0m\u001b[0m\n",
      "\u001b[1;32mD:\\Anaconda3\\lib\\site-packages\\xgboost\\core.py\u001b[0m in \u001b[0;36m_check_call\u001b[1;34m(ret)\u001b[0m\n\u001b[0;32m    187\u001b[0m     \"\"\"\n\u001b[0;32m    188\u001b[0m     \u001b[1;32mif\u001b[0m \u001b[0mret\u001b[0m \u001b[1;33m!=\u001b[0m \u001b[1;36m0\u001b[0m\u001b[1;33m:\u001b[0m\u001b[1;33m\u001b[0m\u001b[1;33m\u001b[0m\u001b[0m\n\u001b[1;32m--> 189\u001b[1;33m         \u001b[1;32mraise\u001b[0m \u001b[0mXGBoostError\u001b[0m\u001b[1;33m(\u001b[0m\u001b[0mpy_str\u001b[0m\u001b[1;33m(\u001b[0m\u001b[0m_LIB\u001b[0m\u001b[1;33m.\u001b[0m\u001b[0mXGBGetLastError\u001b[0m\u001b[1;33m(\u001b[0m\u001b[1;33m)\u001b[0m\u001b[1;33m)\u001b[0m\u001b[1;33m)\u001b[0m\u001b[1;33m\u001b[0m\u001b[1;33m\u001b[0m\u001b[0m\n\u001b[0m\u001b[0;32m    190\u001b[0m \u001b[1;33m\u001b[0m\u001b[0m\n\u001b[0;32m    191\u001b[0m \u001b[1;33m\u001b[0m\u001b[0m\n",
      "\u001b[1;31mXGBoostError\u001b[0m: [19:36:29] C:/Users/Administrator/workspace/xgboost-win64_release_1.3.0/src/objective/regression_obj.cu:102: label must be in [0,1] for logistic regression"
     ]
    }
   ],
   "source": [
    "# import xgboost as xgb\n",
    "\n",
    "# dm_train = xgb.DMatrix(X_train, label=y_train)\n",
    "\n",
    "# # パラメータ\n",
    "# param = {\n",
    "#     'max_depth': 2, \n",
    "#     'eta': 1, \n",
    "#     'objective': 'binary:logistic'\n",
    "# }\n",
    "\n",
    "# # XGBoostで学習\n",
    "# model = xgb.train(param, dm_train)"
   ]
  }
 ],
 "metadata": {
  "kernelspec": {
   "display_name": "Python 3",
   "language": "python",
   "name": "python3"
  },
  "language_info": {
   "codemirror_mode": {
    "name": "ipython",
    "version": 3
   },
   "file_extension": ".py",
   "mimetype": "text/x-python",
   "name": "python",
   "nbconvert_exporter": "python",
   "pygments_lexer": "ipython3",
   "version": "3.7.6"
  }
 },
 "nbformat": 4,
 "nbformat_minor": 4
}
