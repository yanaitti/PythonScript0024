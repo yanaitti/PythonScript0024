{
 "cells": [
  {
   "cell_type": "code",
   "execution_count": null,
   "metadata": {
    "id": "T0cSgMe2jxVZ"
   },
   "outputs": [],
   "source": [
    "import pandas as pd\n",
    "import numpy as np\n",
    "from matplotlib import pyplot as plt\n",
    "%matplotlib inline\n",
    "import seaborn as sns\n",
    "sns.set()"
   ]
  },
  {
   "cell_type": "code",
   "execution_count": null,
   "metadata": {
    "colab": {
     "base_uri": "https://localhost:8080/",
     "height": 589
    },
    "id": "hdl7kvpZjOvY",
    "outputId": "45d5e619-87c8-4833-f2d1-3b52ce7b0cfe"
   },
   "outputs": [],
   "source": [
    "data = pd.read_csv('inputs/USDJPY_H1.csv', sep='\\t', names=('date', 'time', 'open', 'high', 'low', 'close'), usecols=[0, 1, 2, 3, 4, 5], skiprows=1)\n",
    "data['datetime'] = pd.to_datetime(data['date']  + ' ' + data['time'])\n",
    "data.drop(['date', 'time'], axis=1, inplace=True)\n",
    "data"
   ]
  },
  {
   "cell_type": "code",
   "execution_count": null,
   "metadata": {
    "colab": {
     "base_uri": "https://localhost:8080/",
     "height": 589
    },
    "id": "b9AYFUTLjrNd",
    "outputId": "e7aad2e1-d59b-49b1-9958-149f93614dea"
   },
   "outputs": [],
   "source": [
    "# all_data = pd.merge(data, ni225, on='datetime', suffixes=['', '_ni225']).drop(['date_ni225', 'time_ni225'], axis=1)\n",
    "all_data = data.copy()\n",
    "all_data"
   ]
  },
  {
   "cell_type": "code",
   "execution_count": null,
   "metadata": {
    "colab": {
     "base_uri": "https://localhost:8080/",
     "height": 779
    },
    "id": "Y-LWhNwok9QV",
    "outputId": "4025e881-6baa-4ce5-b130-4aba6c41b324"
   },
   "outputs": [],
   "source": [
    "# extract features from date\n",
    "all_data['day'] = [i.day for i in all_data['datetime']]\n",
    "all_data['month'] = [i.month for i in all_data['datetime']]\n",
    "all_data['year'] = [i.year for i in all_data['datetime']]\n",
    "all_data['day_of_week'] = [i.dayofweek for i in all_data['datetime']]\n",
    "all_data['day_of_year'] = [i.dayofyear for i in all_data['datetime']]\n",
    "\n",
    "all_data['hour'] = [i.hour for i in all_data['datetime']]\n",
    "all_data['minute'] = [i.minute for i in all_data['datetime']]\n",
    "\n",
    "all_data"
   ]
  },
  {
   "cell_type": "code",
   "execution_count": null,
   "metadata": {
    "colab": {
     "base_uri": "https://localhost:8080/",
     "height": 439
    },
    "id": "TKDzx4uRk-X9",
    "outputId": "c36c5bdf-97dc-400f-e7d0-a2a52a9c3647"
   },
   "outputs": [],
   "source": [
    "# dataset = all_data[['open', 'high', 'low', 'close', 'tickvol', 'day', 'month', 'year', 'day_of_week', 'day_of_year', 'hour', 'minute', 'open_ni225', 'high_ni225', 'low_ni225', 'close_ni225', 'tickvol_ni225']]\n",
    "dataset = all_data[['open', 'high', 'low', 'close', 'day', 'month', 'year', 'day_of_week', 'day_of_year', 'hour', 'minute']]\n",
    "dataset\n"
   ]
  },
  {
   "cell_type": "code",
   "execution_count": null,
   "metadata": {
    "colab": {
     "base_uri": "https://localhost:8080/"
    },
    "id": "5F35iwxzlAQN",
    "outputId": "c856b8c8-b98a-4f5b-e644-ff995a517fb5"
   },
   "outputs": [],
   "source": [
    "dataset['y'] = dataset['high'].shift(-1)\n",
    "dataset[['y', 'high']]"
   ]
  },
  {
   "cell_type": "code",
   "execution_count": null,
   "metadata": {
    "colab": {
     "base_uri": "https://localhost:8080/",
     "height": 541
    },
    "id": "h70eboVBlCdN",
    "outputId": "84ac3bc6-0495-4032-df02-a27ae1a70535"
   },
   "outputs": [],
   "source": [
    "for i in range(1, 13):\n",
    "    dataset['shift%s'%i] = dataset['high'].shift(i)\n",
    "\n",
    "dataset['sma5'] = dataset['high'].rolling(5).mean()\n",
    "dataset['sma15'] = dataset['high'].rolling(15).mean()\n",
    "dataset['H1_high'] = dataset['high'].rolling(25).max()\n",
    "dataset['H1_low'] = dataset['low'].rolling(25).min()\n",
    "dataset"
   ]
  },
  {
   "cell_type": "code",
   "execution_count": null,
   "metadata": {
    "colab": {
     "base_uri": "https://localhost:8080/",
     "height": 439
    },
    "id": "Ds0A1qBOlD0k",
    "outputId": "07f6922f-ec98-4fff-e0d5-350416712a36"
   },
   "outputs": [],
   "source": [
    "dataset = dataset[100:-1]\n",
    "dataset"
   ]
  },
  {
   "cell_type": "code",
   "execution_count": null,
   "metadata": {},
   "outputs": [],
   "source": [
    "dataset[['y', 'high']]"
   ]
  },
  {
   "cell_type": "code",
   "execution_count": null,
   "metadata": {
    "colab": {
     "base_uri": "https://localhost:8080/"
    },
    "id": "SNz6uGCTlF1t",
    "outputId": "785d38fb-5ee2-46f3-a123-ed8e0c025f47"
   },
   "outputs": [],
   "source": [
    "dataset.isnull().any()"
   ]
  },
  {
   "cell_type": "code",
   "execution_count": null,
   "metadata": {
    "id": "kt7BboLglG7V"
   },
   "outputs": [],
   "source": [
    "X = dataset.drop(['y'], axis=1)\n",
    "y = dataset['y']"
   ]
  },
  {
   "cell_type": "code",
   "execution_count": null,
   "metadata": {
    "id": "S1JDDypClIMR"
   },
   "outputs": [],
   "source": [
    "from sklearn.metrics import mean_squared_error\n",
    "from sklearn.model_selection import KFold, train_test_split"
   ]
  },
  {
   "cell_type": "code",
   "execution_count": null,
   "metadata": {
    "id": "o11h9uAJlJvU"
   },
   "outputs": [],
   "source": [
    "# X_train, X_val, y_train, y_val = train_test_split(X, y, test_size=0.2, shuffle=False)\n",
    "# X_train, X_test, y_train, y_test = train_test_split(X_train, y_train, test_size=0.3, shuffle=False)\n",
    "X_train, X_val, y_train, y_val = train_test_split(X, y, test_size=0.2, shuffle=False)\n"
   ]
  },
  {
   "cell_type": "code",
   "execution_count": null,
   "metadata": {
    "colab": {
     "background_save": true,
     "base_uri": "https://localhost:8080/"
    },
    "id": "R79nnPB1ljjk",
    "outputId": "23ef499d-e6fe-4cf4-a178-08519b79aaae"
   },
   "outputs": [],
   "source": [
    "from xgboost import XGBRegressor\n",
    "from sklearn.model_selection import KFold\n",
    "from sklearn.model_selection import GridSearchCV\n",
    "\n",
    "folds = KFold(n_splits = 5, shuffle = True)\n",
    "\n",
    "# params = {'max_depth': [5, 7, 9, 11], 'random_state': [0], 'n_estimators': list(range(50, 200, 50)), 'learning_rate': [0.1, 0.01, 0.001], 'n_estimators': [100, 500]}\n",
    "params = {'objective': ['reg:squarederror'], 'max_depth': list(range(2, 10)), 'random_state': [0], 'n_estimators': list(range(50, 200, 50)), 'learning_rate': [0.1, 0.01, 0.001]}\n",
    "# params = {'max_depth': list(range(2, 10)), 'random_state': [0], 'n_estimators': list(range(50, 200, 50))}\n",
    "# params = {'max_depth': [5, 6, 7], 'random_state': [0], 'n_estimators': [500], 'learning_rate': [.03, .05, .07], 'min_child_weight': [4]}\n",
    "# params = {'max_depth': list(range(2, 10)), 'random_state': [0], 'n_estimators': list(range(50, 200, 50))}\n",
    "\n",
    "# XGBoost\n",
    "xgb = XGBRegressor()\n",
    "\n",
    "reg_cv_xgb = GridSearchCV(xgb, params, cv=folds, return_train_score=True, verbose=100)\n",
    "reg_cv_xgb.fit(X_train, y_train)"
   ]
  },
  {
   "cell_type": "code",
   "execution_count": null,
   "metadata": {
    "colab": {
     "background_save": true
    },
    "id": "LxLIiba2llts",
    "outputId": "ae093ef9-0177-4430-ebae-45c577cf1c62"
   },
   "outputs": [],
   "source": [
    "print(reg_cv_xgb.best_params_)\n",
    "y_pred = reg_cv_xgb.predict(X_val)\n",
    "y_pred"
   ]
  },
  {
   "cell_type": "code",
   "execution_count": null,
   "metadata": {},
   "outputs": [],
   "source": [
    "y_.shape, y_train.shape"
   ]
  },
  {
   "cell_type": "code",
   "execution_count": null,
   "metadata": {
    "colab": {
     "background_save": true
    },
    "id": "X6E95Trglm9k",
    "outputId": "188d6c79-06e0-4773-f0a9-b2d4f81fdb87"
   },
   "outputs": [],
   "source": [
    "y_ = np.concatenate([np.array([None for i in range(len(y_train))]) , y_pred])\n",
    "y_ = pd.DataFrame(y_, index=X.index)\n",
    "\n",
    "plt.figure(figsize=(16,5))\n",
    "plt.plot(y, label='original')\n",
    "plt.plot(y_, '--', label='predict')\n",
    "plt.legend()"
   ]
  },
  {
   "cell_type": "code",
   "execution_count": null,
   "metadata": {
    "colab": {
     "background_save": true
    },
    "id": "mApf-bLolp20",
    "outputId": "fc08634b-aca6-4099-d9cb-e70616544510"
   },
   "outputs": [],
   "source": [
    "plt.figure(figsize=(16,5))\n",
    "plt.plot(y[-50:], label='original')\n",
    "plt.plot(y_[-50:], '--', label='predict')\n",
    "plt.legend()"
   ]
  },
  {
   "cell_type": "code",
   "execution_count": null,
   "metadata": {
    "colab": {
     "background_save": true
    },
    "id": "K18L2MXXlrGL",
    "outputId": "8342411a-3b6c-4aea-d823-471c957c7227"
   },
   "outputs": [],
   "source": [
    "plt.figure(figsize=(16,5))\n",
    "plt.plot(y[-200:], label='original')\n",
    "plt.plot(y_[-200:], '--', label='predict')\n",
    "plt.legend()"
   ]
  },
  {
   "cell_type": "code",
   "execution_count": null,
   "metadata": {
    "colab": {
     "background_save": true
    },
    "id": "VEf56CSCAPqm"
   },
   "outputs": [],
   "source": [
    "import pickle\n",
    "\n",
    "filename='model_H1.pkl'\n",
    "pickle.dump(reg_cv_xgb.best_estimator_, open(filename, 'wb'))"
   ]
  },
  {
   "cell_type": "code",
   "execution_count": null,
   "metadata": {},
   "outputs": [],
   "source": []
  }
 ],
 "metadata": {
  "colab": {
   "collapsed_sections": [],
   "name": "20210425.ipynb",
   "provenance": []
  },
  "kernelspec": {
   "display_name": "Python 3",
   "language": "python",
   "name": "python3"
  },
  "language_info": {
   "codemirror_mode": {
    "name": "ipython",
    "version": 3
   },
   "file_extension": ".py",
   "mimetype": "text/x-python",
   "name": "python",
   "nbconvert_exporter": "python",
   "pygments_lexer": "ipython3",
   "version": "3.7.10"
  }
 },
 "nbformat": 4,
 "nbformat_minor": 1
}
